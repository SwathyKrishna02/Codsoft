{
 "cells": [
  {
   "cell_type": "code",
   "execution_count": 51,
   "id": "73c11165",
   "metadata": {},
   "outputs": [],
   "source": [
    "import warnings\n",
    "warnings.filterwarnings(\"ignore\")\n",
    "import pandas as pd\n",
    "from matplotlib import pyplot as plt\n",
    "import seaborn as sns\n",
    "\n",
    "from sklearn.preprocessing import MinMaxScaler\n",
    "from sklearn.model_selection import train_test_split\n",
    "from sklearn.preprocessing import OneHotEncoder\n",
    "\n",
    "from sklearn.linear_model import LogisticRegression\n",
    "from sklearn.neighbors import KNeighborsClassifier\n",
    "from sklearn.ensemble import RandomForestClassifier\n",
    "from sklearn.tree import DecisionTreeClassifier\n",
    "\n",
    "from sklearn.metrics import accuracy_score\n"
   ]
  },
  {
   "cell_type": "code",
   "execution_count": 2,
   "id": "85a1c015",
   "metadata": {},
   "outputs": [
    {
     "data": {
      "text/html": [
       "<div>\n",
       "<style scoped>\n",
       "    .dataframe tbody tr th:only-of-type {\n",
       "        vertical-align: middle;\n",
       "    }\n",
       "\n",
       "    .dataframe tbody tr th {\n",
       "        vertical-align: top;\n",
       "    }\n",
       "\n",
       "    .dataframe thead th {\n",
       "        text-align: right;\n",
       "    }\n",
       "</style>\n",
       "<table border=\"1\" class=\"dataframe\">\n",
       "  <thead>\n",
       "    <tr style=\"text-align: right;\">\n",
       "      <th></th>\n",
       "      <th>Name</th>\n",
       "      <th>Year</th>\n",
       "      <th>Duration</th>\n",
       "      <th>Genre</th>\n",
       "      <th>Rating</th>\n",
       "      <th>Votes</th>\n",
       "      <th>Director</th>\n",
       "      <th>Actor 1</th>\n",
       "      <th>Actor 2</th>\n",
       "      <th>Actor 3</th>\n",
       "    </tr>\n",
       "  </thead>\n",
       "  <tbody>\n",
       "    <tr>\n",
       "      <th>0</th>\n",
       "      <td></td>\n",
       "      <td>NaN</td>\n",
       "      <td>NaN</td>\n",
       "      <td>Drama</td>\n",
       "      <td>NaN</td>\n",
       "      <td>NaN</td>\n",
       "      <td>J.S. Randhawa</td>\n",
       "      <td>Manmauji</td>\n",
       "      <td>Birbal</td>\n",
       "      <td>Rajendra Bhatia</td>\n",
       "    </tr>\n",
       "    <tr>\n",
       "      <th>1</th>\n",
       "      <td>#Gadhvi (He thought he was Gandhi)</td>\n",
       "      <td>(2019)</td>\n",
       "      <td>109 min</td>\n",
       "      <td>Drama</td>\n",
       "      <td>7.0</td>\n",
       "      <td>8</td>\n",
       "      <td>Gaurav Bakshi</td>\n",
       "      <td>Rasika Dugal</td>\n",
       "      <td>Vivek Ghamande</td>\n",
       "      <td>Arvind Jangid</td>\n",
       "    </tr>\n",
       "    <tr>\n",
       "      <th>2</th>\n",
       "      <td>#Homecoming</td>\n",
       "      <td>(2021)</td>\n",
       "      <td>90 min</td>\n",
       "      <td>Drama, Musical</td>\n",
       "      <td>NaN</td>\n",
       "      <td>NaN</td>\n",
       "      <td>Soumyajit Majumdar</td>\n",
       "      <td>Sayani Gupta</td>\n",
       "      <td>Plabita Borthakur</td>\n",
       "      <td>Roy Angana</td>\n",
       "    </tr>\n",
       "    <tr>\n",
       "      <th>3</th>\n",
       "      <td>#Yaaram</td>\n",
       "      <td>(2019)</td>\n",
       "      <td>110 min</td>\n",
       "      <td>Comedy, Romance</td>\n",
       "      <td>4.4</td>\n",
       "      <td>35</td>\n",
       "      <td>Ovais Khan</td>\n",
       "      <td>Prateik</td>\n",
       "      <td>Ishita Raj</td>\n",
       "      <td>Siddhant Kapoor</td>\n",
       "    </tr>\n",
       "    <tr>\n",
       "      <th>4</th>\n",
       "      <td>...And Once Again</td>\n",
       "      <td>(2010)</td>\n",
       "      <td>105 min</td>\n",
       "      <td>Drama</td>\n",
       "      <td>NaN</td>\n",
       "      <td>NaN</td>\n",
       "      <td>Amol Palekar</td>\n",
       "      <td>Rajat Kapoor</td>\n",
       "      <td>Rituparna Sengupta</td>\n",
       "      <td>Antara Mali</td>\n",
       "    </tr>\n",
       "    <tr>\n",
       "      <th>...</th>\n",
       "      <td>...</td>\n",
       "      <td>...</td>\n",
       "      <td>...</td>\n",
       "      <td>...</td>\n",
       "      <td>...</td>\n",
       "      <td>...</td>\n",
       "      <td>...</td>\n",
       "      <td>...</td>\n",
       "      <td>...</td>\n",
       "      <td>...</td>\n",
       "    </tr>\n",
       "    <tr>\n",
       "      <th>15504</th>\n",
       "      <td>Zulm Ko Jala Doonga</td>\n",
       "      <td>(1988)</td>\n",
       "      <td>NaN</td>\n",
       "      <td>Action</td>\n",
       "      <td>4.6</td>\n",
       "      <td>11</td>\n",
       "      <td>Mahendra Shah</td>\n",
       "      <td>Naseeruddin Shah</td>\n",
       "      <td>Sumeet Saigal</td>\n",
       "      <td>Suparna Anand</td>\n",
       "    </tr>\n",
       "    <tr>\n",
       "      <th>15505</th>\n",
       "      <td>Zulmi</td>\n",
       "      <td>(1999)</td>\n",
       "      <td>129 min</td>\n",
       "      <td>Action, Drama</td>\n",
       "      <td>4.5</td>\n",
       "      <td>655</td>\n",
       "      <td>Kuku Kohli</td>\n",
       "      <td>Akshay Kumar</td>\n",
       "      <td>Twinkle Khanna</td>\n",
       "      <td>Aruna Irani</td>\n",
       "    </tr>\n",
       "    <tr>\n",
       "      <th>15506</th>\n",
       "      <td>Zulmi Raj</td>\n",
       "      <td>(2005)</td>\n",
       "      <td>NaN</td>\n",
       "      <td>Action</td>\n",
       "      <td>NaN</td>\n",
       "      <td>NaN</td>\n",
       "      <td>Kiran Thej</td>\n",
       "      <td>Sangeeta Tiwari</td>\n",
       "      <td>NaN</td>\n",
       "      <td>NaN</td>\n",
       "    </tr>\n",
       "    <tr>\n",
       "      <th>15507</th>\n",
       "      <td>Zulmi Shikari</td>\n",
       "      <td>(1988)</td>\n",
       "      <td>NaN</td>\n",
       "      <td>Action</td>\n",
       "      <td>NaN</td>\n",
       "      <td>NaN</td>\n",
       "      <td>NaN</td>\n",
       "      <td>NaN</td>\n",
       "      <td>NaN</td>\n",
       "      <td>NaN</td>\n",
       "    </tr>\n",
       "    <tr>\n",
       "      <th>15508</th>\n",
       "      <td>Zulm-O-Sitam</td>\n",
       "      <td>(1998)</td>\n",
       "      <td>130 min</td>\n",
       "      <td>Action, Drama</td>\n",
       "      <td>6.2</td>\n",
       "      <td>20</td>\n",
       "      <td>K.C. Bokadia</td>\n",
       "      <td>Dharmendra</td>\n",
       "      <td>Jaya Prada</td>\n",
       "      <td>Arjun Sarja</td>\n",
       "    </tr>\n",
       "  </tbody>\n",
       "</table>\n",
       "<p>15509 rows × 10 columns</p>\n",
       "</div>"
      ],
      "text/plain": [
       "                                     Name    Year Duration            Genre  \\\n",
       "0                                             NaN      NaN            Drama   \n",
       "1      #Gadhvi (He thought he was Gandhi)  (2019)  109 min            Drama   \n",
       "2                             #Homecoming  (2021)   90 min   Drama, Musical   \n",
       "3                                 #Yaaram  (2019)  110 min  Comedy, Romance   \n",
       "4                       ...And Once Again  (2010)  105 min            Drama   \n",
       "...                                   ...     ...      ...              ...   \n",
       "15504                 Zulm Ko Jala Doonga  (1988)      NaN           Action   \n",
       "15505                               Zulmi  (1999)  129 min    Action, Drama   \n",
       "15506                           Zulmi Raj  (2005)      NaN           Action   \n",
       "15507                       Zulmi Shikari  (1988)      NaN           Action   \n",
       "15508                        Zulm-O-Sitam  (1998)  130 min    Action, Drama   \n",
       "\n",
       "       Rating Votes            Director           Actor 1             Actor 2  \\\n",
       "0         NaN   NaN       J.S. Randhawa          Manmauji              Birbal   \n",
       "1         7.0     8       Gaurav Bakshi      Rasika Dugal      Vivek Ghamande   \n",
       "2         NaN   NaN  Soumyajit Majumdar      Sayani Gupta   Plabita Borthakur   \n",
       "3         4.4    35          Ovais Khan           Prateik          Ishita Raj   \n",
       "4         NaN   NaN        Amol Palekar      Rajat Kapoor  Rituparna Sengupta   \n",
       "...       ...   ...                 ...               ...                 ...   \n",
       "15504     4.6    11       Mahendra Shah  Naseeruddin Shah       Sumeet Saigal   \n",
       "15505     4.5   655          Kuku Kohli      Akshay Kumar      Twinkle Khanna   \n",
       "15506     NaN   NaN          Kiran Thej   Sangeeta Tiwari                 NaN   \n",
       "15507     NaN   NaN                 NaN               NaN                 NaN   \n",
       "15508     6.2    20        K.C. Bokadia        Dharmendra          Jaya Prada   \n",
       "\n",
       "               Actor 3  \n",
       "0      Rajendra Bhatia  \n",
       "1        Arvind Jangid  \n",
       "2           Roy Angana  \n",
       "3      Siddhant Kapoor  \n",
       "4          Antara Mali  \n",
       "...                ...  \n",
       "15504    Suparna Anand  \n",
       "15505      Aruna Irani  \n",
       "15506              NaN  \n",
       "15507              NaN  \n",
       "15508      Arjun Sarja  \n",
       "\n",
       "[15509 rows x 10 columns]"
      ]
     },
     "execution_count": 2,
     "metadata": {},
     "output_type": "execute_result"
    }
   ],
   "source": [
    "data=pd.read_csv(\"IMDb Movies India.csv\", encoding='latin-1')\n",
    "data"
   ]
  },
  {
   "cell_type": "code",
   "execution_count": 3,
   "id": "479f2eac",
   "metadata": {
    "scrolled": true
   },
   "outputs": [
    {
     "data": {
      "text/plain": [
       "Name         object\n",
       "Year         object\n",
       "Duration     object\n",
       "Genre        object\n",
       "Rating      float64\n",
       "Votes        object\n",
       "Director     object\n",
       "Actor 1      object\n",
       "Actor 2      object\n",
       "Actor 3      object\n",
       "dtype: object"
      ]
     },
     "execution_count": 3,
     "metadata": {},
     "output_type": "execute_result"
    }
   ],
   "source": [
    "data.dtypes"
   ]
  },
  {
   "cell_type": "code",
   "execution_count": 4,
   "id": "82b88f33",
   "metadata": {},
   "outputs": [
    {
     "data": {
      "text/html": [
       "<div>\n",
       "<style scoped>\n",
       "    .dataframe tbody tr th:only-of-type {\n",
       "        vertical-align: middle;\n",
       "    }\n",
       "\n",
       "    .dataframe tbody tr th {\n",
       "        vertical-align: top;\n",
       "    }\n",
       "\n",
       "    .dataframe thead th {\n",
       "        text-align: right;\n",
       "    }\n",
       "</style>\n",
       "<table border=\"1\" class=\"dataframe\">\n",
       "  <thead>\n",
       "    <tr style=\"text-align: right;\">\n",
       "      <th></th>\n",
       "      <th>Name</th>\n",
       "      <th>Year</th>\n",
       "      <th>Duration</th>\n",
       "      <th>Genre</th>\n",
       "      <th>Rating</th>\n",
       "      <th>Votes</th>\n",
       "      <th>Director</th>\n",
       "      <th>Actor 1</th>\n",
       "      <th>Actor 2</th>\n",
       "      <th>Actor 3</th>\n",
       "      <th>Actor</th>\n",
       "    </tr>\n",
       "  </thead>\n",
       "  <tbody>\n",
       "    <tr>\n",
       "      <th>0</th>\n",
       "      <td></td>\n",
       "      <td>NaN</td>\n",
       "      <td>NaN</td>\n",
       "      <td>Drama</td>\n",
       "      <td>NaN</td>\n",
       "      <td>NaN</td>\n",
       "      <td>J.S. Randhawa</td>\n",
       "      <td>Manmauji</td>\n",
       "      <td>Birbal</td>\n",
       "      <td>Rajendra Bhatia</td>\n",
       "      <td>Manmauji,Birbal,Rajendra Bhatia</td>\n",
       "    </tr>\n",
       "    <tr>\n",
       "      <th>1</th>\n",
       "      <td>#Gadhvi (He thought he was Gandhi)</td>\n",
       "      <td>(2019)</td>\n",
       "      <td>109 min</td>\n",
       "      <td>Drama</td>\n",
       "      <td>7.0</td>\n",
       "      <td>8</td>\n",
       "      <td>Gaurav Bakshi</td>\n",
       "      <td>Rasika Dugal</td>\n",
       "      <td>Vivek Ghamande</td>\n",
       "      <td>Arvind Jangid</td>\n",
       "      <td>Rasika Dugal,Vivek Ghamande,Arvind Jangid</td>\n",
       "    </tr>\n",
       "    <tr>\n",
       "      <th>2</th>\n",
       "      <td>#Homecoming</td>\n",
       "      <td>(2021)</td>\n",
       "      <td>90 min</td>\n",
       "      <td>Drama, Musical</td>\n",
       "      <td>NaN</td>\n",
       "      <td>NaN</td>\n",
       "      <td>Soumyajit Majumdar</td>\n",
       "      <td>Sayani Gupta</td>\n",
       "      <td>Plabita Borthakur</td>\n",
       "      <td>Roy Angana</td>\n",
       "      <td>Sayani Gupta,Plabita Borthakur,Roy Angana</td>\n",
       "    </tr>\n",
       "    <tr>\n",
       "      <th>3</th>\n",
       "      <td>#Yaaram</td>\n",
       "      <td>(2019)</td>\n",
       "      <td>110 min</td>\n",
       "      <td>Comedy, Romance</td>\n",
       "      <td>4.4</td>\n",
       "      <td>35</td>\n",
       "      <td>Ovais Khan</td>\n",
       "      <td>Prateik</td>\n",
       "      <td>Ishita Raj</td>\n",
       "      <td>Siddhant Kapoor</td>\n",
       "      <td>Prateik,Ishita Raj,Siddhant Kapoor</td>\n",
       "    </tr>\n",
       "    <tr>\n",
       "      <th>4</th>\n",
       "      <td>...And Once Again</td>\n",
       "      <td>(2010)</td>\n",
       "      <td>105 min</td>\n",
       "      <td>Drama</td>\n",
       "      <td>NaN</td>\n",
       "      <td>NaN</td>\n",
       "      <td>Amol Palekar</td>\n",
       "      <td>Rajat Kapoor</td>\n",
       "      <td>Rituparna Sengupta</td>\n",
       "      <td>Antara Mali</td>\n",
       "      <td>Rajat Kapoor,Rituparna Sengupta,Antara Mali</td>\n",
       "    </tr>\n",
       "    <tr>\n",
       "      <th>...</th>\n",
       "      <td>...</td>\n",
       "      <td>...</td>\n",
       "      <td>...</td>\n",
       "      <td>...</td>\n",
       "      <td>...</td>\n",
       "      <td>...</td>\n",
       "      <td>...</td>\n",
       "      <td>...</td>\n",
       "      <td>...</td>\n",
       "      <td>...</td>\n",
       "      <td>...</td>\n",
       "    </tr>\n",
       "    <tr>\n",
       "      <th>15504</th>\n",
       "      <td>Zulm Ko Jala Doonga</td>\n",
       "      <td>(1988)</td>\n",
       "      <td>NaN</td>\n",
       "      <td>Action</td>\n",
       "      <td>4.6</td>\n",
       "      <td>11</td>\n",
       "      <td>Mahendra Shah</td>\n",
       "      <td>Naseeruddin Shah</td>\n",
       "      <td>Sumeet Saigal</td>\n",
       "      <td>Suparna Anand</td>\n",
       "      <td>Naseeruddin Shah,Sumeet Saigal,Suparna Anand</td>\n",
       "    </tr>\n",
       "    <tr>\n",
       "      <th>15505</th>\n",
       "      <td>Zulmi</td>\n",
       "      <td>(1999)</td>\n",
       "      <td>129 min</td>\n",
       "      <td>Action, Drama</td>\n",
       "      <td>4.5</td>\n",
       "      <td>655</td>\n",
       "      <td>Kuku Kohli</td>\n",
       "      <td>Akshay Kumar</td>\n",
       "      <td>Twinkle Khanna</td>\n",
       "      <td>Aruna Irani</td>\n",
       "      <td>Akshay Kumar,Twinkle Khanna,Aruna Irani</td>\n",
       "    </tr>\n",
       "    <tr>\n",
       "      <th>15506</th>\n",
       "      <td>Zulmi Raj</td>\n",
       "      <td>(2005)</td>\n",
       "      <td>NaN</td>\n",
       "      <td>Action</td>\n",
       "      <td>NaN</td>\n",
       "      <td>NaN</td>\n",
       "      <td>Kiran Thej</td>\n",
       "      <td>Sangeeta Tiwari</td>\n",
       "      <td>NaN</td>\n",
       "      <td>NaN</td>\n",
       "      <td>NaN</td>\n",
       "    </tr>\n",
       "    <tr>\n",
       "      <th>15507</th>\n",
       "      <td>Zulmi Shikari</td>\n",
       "      <td>(1988)</td>\n",
       "      <td>NaN</td>\n",
       "      <td>Action</td>\n",
       "      <td>NaN</td>\n",
       "      <td>NaN</td>\n",
       "      <td>NaN</td>\n",
       "      <td>NaN</td>\n",
       "      <td>NaN</td>\n",
       "      <td>NaN</td>\n",
       "      <td>NaN</td>\n",
       "    </tr>\n",
       "    <tr>\n",
       "      <th>15508</th>\n",
       "      <td>Zulm-O-Sitam</td>\n",
       "      <td>(1998)</td>\n",
       "      <td>130 min</td>\n",
       "      <td>Action, Drama</td>\n",
       "      <td>6.2</td>\n",
       "      <td>20</td>\n",
       "      <td>K.C. Bokadia</td>\n",
       "      <td>Dharmendra</td>\n",
       "      <td>Jaya Prada</td>\n",
       "      <td>Arjun Sarja</td>\n",
       "      <td>Dharmendra,Jaya Prada,Arjun Sarja</td>\n",
       "    </tr>\n",
       "  </tbody>\n",
       "</table>\n",
       "<p>15509 rows × 11 columns</p>\n",
       "</div>"
      ],
      "text/plain": [
       "                                     Name    Year Duration            Genre  \\\n",
       "0                                             NaN      NaN            Drama   \n",
       "1      #Gadhvi (He thought he was Gandhi)  (2019)  109 min            Drama   \n",
       "2                             #Homecoming  (2021)   90 min   Drama, Musical   \n",
       "3                                 #Yaaram  (2019)  110 min  Comedy, Romance   \n",
       "4                       ...And Once Again  (2010)  105 min            Drama   \n",
       "...                                   ...     ...      ...              ...   \n",
       "15504                 Zulm Ko Jala Doonga  (1988)      NaN           Action   \n",
       "15505                               Zulmi  (1999)  129 min    Action, Drama   \n",
       "15506                           Zulmi Raj  (2005)      NaN           Action   \n",
       "15507                       Zulmi Shikari  (1988)      NaN           Action   \n",
       "15508                        Zulm-O-Sitam  (1998)  130 min    Action, Drama   \n",
       "\n",
       "       Rating Votes            Director           Actor 1             Actor 2  \\\n",
       "0         NaN   NaN       J.S. Randhawa          Manmauji              Birbal   \n",
       "1         7.0     8       Gaurav Bakshi      Rasika Dugal      Vivek Ghamande   \n",
       "2         NaN   NaN  Soumyajit Majumdar      Sayani Gupta   Plabita Borthakur   \n",
       "3         4.4    35          Ovais Khan           Prateik          Ishita Raj   \n",
       "4         NaN   NaN        Amol Palekar      Rajat Kapoor  Rituparna Sengupta   \n",
       "...       ...   ...                 ...               ...                 ...   \n",
       "15504     4.6    11       Mahendra Shah  Naseeruddin Shah       Sumeet Saigal   \n",
       "15505     4.5   655          Kuku Kohli      Akshay Kumar      Twinkle Khanna   \n",
       "15506     NaN   NaN          Kiran Thej   Sangeeta Tiwari                 NaN   \n",
       "15507     NaN   NaN                 NaN               NaN                 NaN   \n",
       "15508     6.2    20        K.C. Bokadia        Dharmendra          Jaya Prada   \n",
       "\n",
       "               Actor 3                                         Actor  \n",
       "0      Rajendra Bhatia               Manmauji,Birbal,Rajendra Bhatia  \n",
       "1        Arvind Jangid     Rasika Dugal,Vivek Ghamande,Arvind Jangid  \n",
       "2           Roy Angana     Sayani Gupta,Plabita Borthakur,Roy Angana  \n",
       "3      Siddhant Kapoor            Prateik,Ishita Raj,Siddhant Kapoor  \n",
       "4          Antara Mali   Rajat Kapoor,Rituparna Sengupta,Antara Mali  \n",
       "...                ...                                           ...  \n",
       "15504    Suparna Anand  Naseeruddin Shah,Sumeet Saigal,Suparna Anand  \n",
       "15505      Aruna Irani       Akshay Kumar,Twinkle Khanna,Aruna Irani  \n",
       "15506              NaN                                           NaN  \n",
       "15507              NaN                                           NaN  \n",
       "15508      Arjun Sarja             Dharmendra,Jaya Prada,Arjun Sarja  \n",
       "\n",
       "[15509 rows x 11 columns]"
      ]
     },
     "execution_count": 4,
     "metadata": {},
     "output_type": "execute_result"
    }
   ],
   "source": [
    "data[\"Actor\"]=data[\"Actor 1\"]+\",\"+data[\"Actor 2\"]+\",\"+data[\"Actor 3\"]\n",
    "data"
   ]
  },
  {
   "cell_type": "code",
   "execution_count": 5,
   "id": "ec6ee0e5",
   "metadata": {
    "scrolled": true
   },
   "outputs": [
    {
     "data": {
      "text/plain": [
       "(15509, 11)"
      ]
     },
     "execution_count": 5,
     "metadata": {},
     "output_type": "execute_result"
    }
   ],
   "source": [
    "data.shape"
   ]
  },
  {
   "cell_type": "code",
   "execution_count": 6,
   "id": "da78a87c",
   "metadata": {},
   "outputs": [
    {
     "data": {
      "text/plain": [
       "6"
      ]
     },
     "execution_count": 6,
     "metadata": {},
     "output_type": "execute_result"
    }
   ],
   "source": [
    "data.duplicated().sum()"
   ]
  },
  {
   "cell_type": "code",
   "execution_count": 7,
   "id": "d1be0c80",
   "metadata": {},
   "outputs": [],
   "source": [
    "data=data.drop_duplicates()"
   ]
  },
  {
   "cell_type": "code",
   "execution_count": 8,
   "id": "cef97aae",
   "metadata": {},
   "outputs": [
    {
     "data": {
      "text/plain": [
       "Name           0\n",
       "Year         527\n",
       "Duration    8264\n",
       "Genre       1876\n",
       "Rating      7584\n",
       "Votes       7583\n",
       "Director     524\n",
       "Actor 1     1615\n",
       "Actor 2     2381\n",
       "Actor 3     3140\n",
       "Actor       3140\n",
       "dtype: int64"
      ]
     },
     "execution_count": 8,
     "metadata": {},
     "output_type": "execute_result"
    }
   ],
   "source": [
    "data.isnull().sum()"
   ]
  },
  {
   "cell_type": "code",
   "execution_count": 9,
   "id": "21ffb644",
   "metadata": {
    "scrolled": false
   },
   "outputs": [
    {
     "data": {
      "text/plain": [
       "(array([ 179., 1440., 3357., 2771.,  172.]),\n",
       " array([ 1.1 ,  2.88,  4.66,  6.44,  8.22, 10.  ]),\n",
       " <BarContainer object of 5 artists>)"
      ]
     },
     "execution_count": 9,
     "metadata": {},
     "output_type": "execute_result"
    },
    {
     "data": {
      "image/png": "[encoded data removed]",
      "text/plain": [
       "<Figure size 640x480 with 1 Axes>"
      ]
     },
     "metadata": {},
     "output_type": "display_data"
    }
   ],
   "source": [
    "plt.hist(data[\"Rating\"],bins=5)"
   ]
  },
  {
   "cell_type": "code",
   "execution_count": 10,
   "id": "71e3af11",
   "metadata": {},
   "outputs": [
    {
     "data": {
      "image/png": "[encoded data removed]",
      "text/plain": [
       "<Figure size 1000x600 with 1 Axes>"
      ]
     },
     "metadata": {},
     "output_type": "display_data"
    }
   ],
   "source": [
    "data_sorted=data.sort_values(by=\"Rating\",ascending=False)\n",
    "top_ten=data_sorted.head(10)\n",
    "plt.figure(figsize=(10,6))\n",
    "bars = plt.barh(top_ten['Name'], top_ten['Rating'])\n"
   ]
  },
  {
   "cell_type": "code",
   "execution_count": 11,
   "id": "be5297f7",
   "metadata": {},
   "outputs": [],
   "source": [
    "def TopTen(data, column):\n",
    "    data[column].value_counts().sort_values(ascending=False)[:10].plot(kind=\"bar\")\n",
    "    plt.title(\"Top Ten {}\".format(column))\n",
    "    plt.xlabel(column)\n",
    "    plt.ylabel('Count')\n",
    "    plt.show()"
   ]
  },
  {
   "cell_type": "code",
   "execution_count": 12,
   "id": "aa85f9b8",
   "metadata": {},
   "outputs": [
    {
     "data": {
      "image/png": "[encoded data removed]",
      "text/plain": [
       "<Figure size 640x480 with 1 Axes>"
      ]
     },
     "metadata": {},
     "output_type": "display_data"
    }
   ],
   "source": [
    "TopTen(data, \"Votes\")"
   ]
  },
  {
   "cell_type": "code",
   "execution_count": 13,
   "id": "2ed63491",
   "metadata": {
    "scrolled": true
   },
   "outputs": [
    {
     "data": {
      "image/png": "[encoded data removed]",
      "text/plain": [
       "<Figure size 640x480 with 1 Axes>"
      ]
     },
     "metadata": {},
     "output_type": "display_data"
    }
   ],
   "source": [
    "TopTen(data,\"Director\")"
   ]
  },
  {
   "cell_type": "code",
   "execution_count": 14,
   "id": "f1c4d3cc",
   "metadata": {},
   "outputs": [
    {
     "data": {
      "image/png": "[encoded data removed]",
      "text/plain": [
       "<Figure size 640x480 with 1 Axes>"
      ]
     },
     "metadata": {},
     "output_type": "display_data"
    }
   ],
   "source": [
    "TopTen(data,\"Actor\")"
   ]
  },
  {
   "cell_type": "code",
   "execution_count": 15,
   "id": "fd8ce9cc",
   "metadata": {},
   "outputs": [
    {
     "data": {
      "image/png": "[encoded data removed]",
      "text/plain": [
       "<Figure size 640x480 with 1 Axes>"
      ]
     },
     "metadata": {},
     "output_type": "display_data"
    }
   ],
   "source": [
    "TopTen(data,\"Genre\")"
   ]
  },
  {
   "cell_type": "code",
   "execution_count": 16,
   "id": "3e88f8cf",
   "metadata": {},
   "outputs": [
    {
     "data": {
      "text/plain": [
       "<seaborn.axisgrid.FacetGrid at 0x280bec3e090>"
      ]
     },
     "execution_count": 16,
     "metadata": {},
     "output_type": "execute_result"
    },
    {
     "data": {
      "image/png": "[encoded data removed]",
      "text/plain": [
       "<Figure size 500x500 with 1 Axes>"
      ]
     },
     "metadata": {},
     "output_type": "display_data"
    }
   ],
   "source": [
    "sns.displot(data[\"Year\"],color=\"g\")"
   ]
  },
  {
   "cell_type": "code",
   "execution_count": 17,
   "id": "8651ccd7",
   "metadata": {},
   "outputs": [
    {
     "data": {
      "text/plain": [
       "<seaborn.axisgrid.FacetGrid at 0x280bebab410>"
      ]
     },
     "execution_count": 17,
     "metadata": {},
     "output_type": "execute_result"
    },
    {
     "data": {
      "image/png": "[encoded data removed]",
      "text/plain": [
       "<Figure size 500x500 with 1 Axes>"
      ]
     },
     "metadata": {},
     "output_type": "display_data"
    }
   ],
   "source": [
    "sns.displot(data[\"Rating\"],color=\"g\")"
   ]
  },
  {
   "cell_type": "code",
   "execution_count": 50,
   "id": "fca7f35f",
   "metadata": {},
   "outputs": [
    {
     "data": {
      "image/png": "[encoded data removed]",
      "text/plain": [
       "<Figure size 1000x800 with 2 Axes>"
      ]
     },
     "metadata": {},
     "output_type": "display_data"
    }
   ],
   "source": [
    "numeric_data = data.select_dtypes(include=['number'])\n",
    "correlation_matrix = numeric_data.corr()\n",
    "plt.figure(figsize=(10, 8))\n",
    "sns.heatmap(correlation_matrix, annot=True, cmap='coolwarm', fmt=\".2f\", linewidths=.5)\n",
    "plt.title('Correlation Matrix')\n",
    "plt.show()"
   ]
  },
  {
   "cell_type": "code",
   "execution_count": 19,
   "id": "dd93cec4",
   "metadata": {},
   "outputs": [],
   "source": [
    "data.dropna(subset=['Rating',\"Director\", \"Actor 1\", \"Actor 2\", \"Actor 3\",\"Duration\",\"Genre\"],inplace=True)"
   ]
  },
  {
   "cell_type": "code",
   "execution_count": 20,
   "id": "d539d574",
   "metadata": {},
   "outputs": [],
   "source": [
    "data['Year']=data[\"Year\"].str.strip('()').astype(int)"
   ]
  },
  {
   "cell_type": "code",
   "execution_count": 21,
   "id": "50cf9189",
   "metadata": {},
   "outputs": [],
   "source": [
    "data[\"Duration\"]=data[\"Duration\"].str.replace('min','').astype(int)"
   ]
  },
  {
   "cell_type": "code",
   "execution_count": 22,
   "id": "f00b7eb5",
   "metadata": {},
   "outputs": [],
   "source": [
    "data['Votes']=data['Votes'].str.replace(\",\",\"\").astype(int)"
   ]
  },
  {
   "cell_type": "code",
   "execution_count": 23,
   "id": "670ba8e0",
   "metadata": {},
   "outputs": [],
   "source": [
    "data.drop([], axis=1, inplace=True)"
   ]
  },
  {
   "cell_type": "code",
   "execution_count": 24,
   "id": "d73ea218",
   "metadata": {},
   "outputs": [
    {
     "data": {
      "text/html": [
       "<div>\n",
       "<style scoped>\n",
       "    .dataframe tbody tr th:only-of-type {\n",
       "        vertical-align: middle;\n",
       "    }\n",
       "\n",
       "    .dataframe tbody tr th {\n",
       "        vertical-align: top;\n",
       "    }\n",
       "\n",
       "    .dataframe thead th {\n",
       "        text-align: right;\n",
       "    }\n",
       "</style>\n",
       "<table border=\"1\" class=\"dataframe\">\n",
       "  <thead>\n",
       "    <tr style=\"text-align: right;\">\n",
       "      <th></th>\n",
       "      <th>Name</th>\n",
       "      <th>Year</th>\n",
       "      <th>Duration</th>\n",
       "      <th>Genre</th>\n",
       "      <th>Rating</th>\n",
       "      <th>Votes</th>\n",
       "      <th>Director</th>\n",
       "      <th>Actor 1</th>\n",
       "      <th>Actor 2</th>\n",
       "      <th>Actor 3</th>\n",
       "      <th>Actor</th>\n",
       "    </tr>\n",
       "  </thead>\n",
       "  <tbody>\n",
       "    <tr>\n",
       "      <th>1</th>\n",
       "      <td>#Gadhvi (He thought he was Gandhi)</td>\n",
       "      <td>2019</td>\n",
       "      <td>109</td>\n",
       "      <td>Drama</td>\n",
       "      <td>7.0</td>\n",
       "      <td>8</td>\n",
       "      <td>Gaurav Bakshi</td>\n",
       "      <td>Rasika Dugal</td>\n",
       "      <td>Vivek Ghamande</td>\n",
       "      <td>Arvind Jangid</td>\n",
       "      <td>Rasika Dugal,Vivek Ghamande,Arvind Jangid</td>\n",
       "    </tr>\n",
       "    <tr>\n",
       "      <th>3</th>\n",
       "      <td>#Yaaram</td>\n",
       "      <td>2019</td>\n",
       "      <td>110</td>\n",
       "      <td>Comedy, Romance</td>\n",
       "      <td>4.4</td>\n",
       "      <td>35</td>\n",
       "      <td>Ovais Khan</td>\n",
       "      <td>Prateik</td>\n",
       "      <td>Ishita Raj</td>\n",
       "      <td>Siddhant Kapoor</td>\n",
       "      <td>Prateik,Ishita Raj,Siddhant Kapoor</td>\n",
       "    </tr>\n",
       "    <tr>\n",
       "      <th>5</th>\n",
       "      <td>...Aur Pyaar Ho Gaya</td>\n",
       "      <td>1997</td>\n",
       "      <td>147</td>\n",
       "      <td>Comedy, Drama, Musical</td>\n",
       "      <td>4.7</td>\n",
       "      <td>827</td>\n",
       "      <td>Rahul Rawail</td>\n",
       "      <td>Bobby Deol</td>\n",
       "      <td>Aishwarya Rai Bachchan</td>\n",
       "      <td>Shammi Kapoor</td>\n",
       "      <td>Bobby Deol,Aishwarya Rai Bachchan,Shammi Kapoor</td>\n",
       "    </tr>\n",
       "    <tr>\n",
       "      <th>6</th>\n",
       "      <td>...Yahaan</td>\n",
       "      <td>2005</td>\n",
       "      <td>142</td>\n",
       "      <td>Drama, Romance, War</td>\n",
       "      <td>7.4</td>\n",
       "      <td>1086</td>\n",
       "      <td>Shoojit Sircar</td>\n",
       "      <td>Jimmy Sheirgill</td>\n",
       "      <td>Minissha Lamba</td>\n",
       "      <td>Yashpal Sharma</td>\n",
       "      <td>Jimmy Sheirgill,Minissha Lamba,Yashpal Sharma</td>\n",
       "    </tr>\n",
       "    <tr>\n",
       "      <th>8</th>\n",
       "      <td>?: A Question Mark</td>\n",
       "      <td>2012</td>\n",
       "      <td>82</td>\n",
       "      <td>Horror, Mystery, Thriller</td>\n",
       "      <td>5.6</td>\n",
       "      <td>326</td>\n",
       "      <td>Allyson Patel</td>\n",
       "      <td>Yash Dave</td>\n",
       "      <td>Muntazir Ahmad</td>\n",
       "      <td>Kiran Bhatia</td>\n",
       "      <td>Yash Dave,Muntazir Ahmad,Kiran Bhatia</td>\n",
       "    </tr>\n",
       "    <tr>\n",
       "      <th>...</th>\n",
       "      <td>...</td>\n",
       "      <td>...</td>\n",
       "      <td>...</td>\n",
       "      <td>...</td>\n",
       "      <td>...</td>\n",
       "      <td>...</td>\n",
       "      <td>...</td>\n",
       "      <td>...</td>\n",
       "      <td>...</td>\n",
       "      <td>...</td>\n",
       "      <td>...</td>\n",
       "    </tr>\n",
       "    <tr>\n",
       "      <th>15493</th>\n",
       "      <td>Zubaan</td>\n",
       "      <td>2015</td>\n",
       "      <td>115</td>\n",
       "      <td>Drama</td>\n",
       "      <td>6.1</td>\n",
       "      <td>408</td>\n",
       "      <td>Mozez Singh</td>\n",
       "      <td>Vicky Kaushal</td>\n",
       "      <td>Sarah Jane Dias</td>\n",
       "      <td>Raaghavv Chanana</td>\n",
       "      <td>Vicky Kaushal,Sarah Jane Dias,Raaghavv Chanana</td>\n",
       "    </tr>\n",
       "    <tr>\n",
       "      <th>15494</th>\n",
       "      <td>Zubeidaa</td>\n",
       "      <td>2001</td>\n",
       "      <td>153</td>\n",
       "      <td>Biography, Drama, History</td>\n",
       "      <td>6.2</td>\n",
       "      <td>1496</td>\n",
       "      <td>Shyam Benegal</td>\n",
       "      <td>Karisma Kapoor</td>\n",
       "      <td>Rekha</td>\n",
       "      <td>Manoj Bajpayee</td>\n",
       "      <td>Karisma Kapoor,Rekha,Manoj Bajpayee</td>\n",
       "    </tr>\n",
       "    <tr>\n",
       "      <th>15503</th>\n",
       "      <td>Zulm Ki Zanjeer</td>\n",
       "      <td>1989</td>\n",
       "      <td>125</td>\n",
       "      <td>Action, Crime, Drama</td>\n",
       "      <td>5.8</td>\n",
       "      <td>44</td>\n",
       "      <td>S.P. Muthuraman</td>\n",
       "      <td>Chiranjeevi</td>\n",
       "      <td>Jayamalini</td>\n",
       "      <td>Rajinikanth</td>\n",
       "      <td>Chiranjeevi,Jayamalini,Rajinikanth</td>\n",
       "    </tr>\n",
       "    <tr>\n",
       "      <th>15505</th>\n",
       "      <td>Zulmi</td>\n",
       "      <td>1999</td>\n",
       "      <td>129</td>\n",
       "      <td>Action, Drama</td>\n",
       "      <td>4.5</td>\n",
       "      <td>655</td>\n",
       "      <td>Kuku Kohli</td>\n",
       "      <td>Akshay Kumar</td>\n",
       "      <td>Twinkle Khanna</td>\n",
       "      <td>Aruna Irani</td>\n",
       "      <td>Akshay Kumar,Twinkle Khanna,Aruna Irani</td>\n",
       "    </tr>\n",
       "    <tr>\n",
       "      <th>15508</th>\n",
       "      <td>Zulm-O-Sitam</td>\n",
       "      <td>1998</td>\n",
       "      <td>130</td>\n",
       "      <td>Action, Drama</td>\n",
       "      <td>6.2</td>\n",
       "      <td>20</td>\n",
       "      <td>K.C. Bokadia</td>\n",
       "      <td>Dharmendra</td>\n",
       "      <td>Jaya Prada</td>\n",
       "      <td>Arjun Sarja</td>\n",
       "      <td>Dharmendra,Jaya Prada,Arjun Sarja</td>\n",
       "    </tr>\n",
       "  </tbody>\n",
       "</table>\n",
       "<p>5659 rows × 11 columns</p>\n",
       "</div>"
      ],
      "text/plain": [
       "                                     Name  Year  Duration  \\\n",
       "1      #Gadhvi (He thought he was Gandhi)  2019       109   \n",
       "3                                 #Yaaram  2019       110   \n",
       "5                    ...Aur Pyaar Ho Gaya  1997       147   \n",
       "6                               ...Yahaan  2005       142   \n",
       "8                      ?: A Question Mark  2012        82   \n",
       "...                                   ...   ...       ...   \n",
       "15493                              Zubaan  2015       115   \n",
       "15494                            Zubeidaa  2001       153   \n",
       "15503                     Zulm Ki Zanjeer  1989       125   \n",
       "15505                               Zulmi  1999       129   \n",
       "15508                        Zulm-O-Sitam  1998       130   \n",
       "\n",
       "                           Genre  Rating  Votes         Director  \\\n",
       "1                          Drama     7.0      8    Gaurav Bakshi   \n",
       "3                Comedy, Romance     4.4     35       Ovais Khan   \n",
       "5         Comedy, Drama, Musical     4.7    827     Rahul Rawail   \n",
       "6            Drama, Romance, War     7.4   1086   Shoojit Sircar   \n",
       "8      Horror, Mystery, Thriller     5.6    326    Allyson Patel   \n",
       "...                          ...     ...    ...              ...   \n",
       "15493                      Drama     6.1    408      Mozez Singh   \n",
       "15494  Biography, Drama, History     6.2   1496    Shyam Benegal   \n",
       "15503       Action, Crime, Drama     5.8     44  S.P. Muthuraman   \n",
       "15505              Action, Drama     4.5    655       Kuku Kohli   \n",
       "15508              Action, Drama     6.2     20     K.C. Bokadia   \n",
       "\n",
       "               Actor 1                 Actor 2           Actor 3  \\\n",
       "1         Rasika Dugal          Vivek Ghamande     Arvind Jangid   \n",
       "3              Prateik              Ishita Raj   Siddhant Kapoor   \n",
       "5           Bobby Deol  Aishwarya Rai Bachchan     Shammi Kapoor   \n",
       "6      Jimmy Sheirgill          Minissha Lamba    Yashpal Sharma   \n",
       "8            Yash Dave          Muntazir Ahmad      Kiran Bhatia   \n",
       "...                ...                     ...               ...   \n",
       "15493    Vicky Kaushal         Sarah Jane Dias  Raaghavv Chanana   \n",
       "15494   Karisma Kapoor                   Rekha    Manoj Bajpayee   \n",
       "15503      Chiranjeevi              Jayamalini       Rajinikanth   \n",
       "15505     Akshay Kumar          Twinkle Khanna       Aruna Irani   \n",
       "15508       Dharmendra              Jaya Prada       Arjun Sarja   \n",
       "\n",
       "                                                 Actor  \n",
       "1            Rasika Dugal,Vivek Ghamande,Arvind Jangid  \n",
       "3                   Prateik,Ishita Raj,Siddhant Kapoor  \n",
       "5      Bobby Deol,Aishwarya Rai Bachchan,Shammi Kapoor  \n",
       "6        Jimmy Sheirgill,Minissha Lamba,Yashpal Sharma  \n",
       "8                Yash Dave,Muntazir Ahmad,Kiran Bhatia  \n",
       "...                                                ...  \n",
       "15493   Vicky Kaushal,Sarah Jane Dias,Raaghavv Chanana  \n",
       "15494              Karisma Kapoor,Rekha,Manoj Bajpayee  \n",
       "15503               Chiranjeevi,Jayamalini,Rajinikanth  \n",
       "15505          Akshay Kumar,Twinkle Khanna,Aruna Irani  \n",
       "15508                Dharmendra,Jaya Prada,Arjun Sarja  \n",
       "\n",
       "[5659 rows x 11 columns]"
      ]
     },
     "execution_count": 24,
     "metadata": {},
     "output_type": "execute_result"
    }
   ],
   "source": [
    "data"
   ]
  },
  {
   "cell_type": "code",
   "execution_count": 25,
   "id": "e1fbab58",
   "metadata": {},
   "outputs": [
    {
     "name": "stdout",
     "output_type": "stream",
     "text": [
      "<class 'pandas.core.frame.DataFrame'>\n",
      "Index: 5659 entries, 1 to 15508\n",
      "Data columns (total 11 columns):\n",
      " #   Column    Non-Null Count  Dtype  \n",
      "---  ------    --------------  -----  \n",
      " 0   Name      5659 non-null   object \n",
      " 1   Year      5659 non-null   int32  \n",
      " 2   Duration  5659 non-null   int32  \n",
      " 3   Genre     5659 non-null   object \n",
      " 4   Rating    5659 non-null   float64\n",
      " 5   Votes     5659 non-null   int32  \n",
      " 6   Director  5659 non-null   object \n",
      " 7   Actor 1   5659 non-null   object \n",
      " 8   Actor 2   5659 non-null   object \n",
      " 9   Actor 3   5659 non-null   object \n",
      " 10  Actor     5659 non-null   object \n",
      "dtypes: float64(1), int32(3), object(7)\n",
      "memory usage: 464.2+ KB\n"
     ]
    }
   ],
   "source": [
    "data.info()"
   ]
  },
  {
   "cell_type": "code",
   "execution_count": 26,
   "id": "1da46f8e",
   "metadata": {},
   "outputs": [
    {
     "data": {
      "text/plain": [
       "<bound method NDFrame.describe of                                      Name  Year  Duration  \\\n",
       "1      #Gadhvi (He thought he was Gandhi)  2019       109   \n",
       "3                                 #Yaaram  2019       110   \n",
       "5                    ...Aur Pyaar Ho Gaya  1997       147   \n",
       "6                               ...Yahaan  2005       142   \n",
       "8                      ?: A Question Mark  2012        82   \n",
       "...                                   ...   ...       ...   \n",
       "15493                              Zubaan  2015       115   \n",
       "15494                            Zubeidaa  2001       153   \n",
       "15503                     Zulm Ki Zanjeer  1989       125   \n",
       "15505                               Zulmi  1999       129   \n",
       "15508                        Zulm-O-Sitam  1998       130   \n",
       "\n",
       "                           Genre  Rating  Votes         Director  \\\n",
       "1                          Drama     7.0      8    Gaurav Bakshi   \n",
       "3                Comedy, Romance     4.4     35       Ovais Khan   \n",
       "5         Comedy, Drama, Musical     4.7    827     Rahul Rawail   \n",
       "6            Drama, Romance, War     7.4   1086   Shoojit Sircar   \n",
       "8      Horror, Mystery, Thriller     5.6    326    Allyson Patel   \n",
       "...                          ...     ...    ...              ...   \n",
       "15493                      Drama     6.1    408      Mozez Singh   \n",
       "15494  Biography, Drama, History     6.2   1496    Shyam Benegal   \n",
       "15503       Action, Crime, Drama     5.8     44  S.P. Muthuraman   \n",
       "15505              Action, Drama     4.5    655       Kuku Kohli   \n",
       "15508              Action, Drama     6.2     20     K.C. Bokadia   \n",
       "\n",
       "               Actor 1                 Actor 2           Actor 3  \\\n",
       "1         Rasika Dugal          Vivek Ghamande     Arvind Jangid   \n",
       "3              Prateik              Ishita Raj   Siddhant Kapoor   \n",
       "5           Bobby Deol  Aishwarya Rai Bachchan     Shammi Kapoor   \n",
       "6      Jimmy Sheirgill          Minissha Lamba    Yashpal Sharma   \n",
       "8            Yash Dave          Muntazir Ahmad      Kiran Bhatia   \n",
       "...                ...                     ...               ...   \n",
       "15493    Vicky Kaushal         Sarah Jane Dias  Raaghavv Chanana   \n",
       "15494   Karisma Kapoor                   Rekha    Manoj Bajpayee   \n",
       "15503      Chiranjeevi              Jayamalini       Rajinikanth   \n",
       "15505     Akshay Kumar          Twinkle Khanna       Aruna Irani   \n",
       "15508       Dharmendra              Jaya Prada       Arjun Sarja   \n",
       "\n",
       "                                                 Actor  \n",
       "1            Rasika Dugal,Vivek Ghamande,Arvind Jangid  \n",
       "3                   Prateik,Ishita Raj,Siddhant Kapoor  \n",
       "5      Bobby Deol,Aishwarya Rai Bachchan,Shammi Kapoor  \n",
       "6        Jimmy Sheirgill,Minissha Lamba,Yashpal Sharma  \n",
       "8                Yash Dave,Muntazir Ahmad,Kiran Bhatia  \n",
       "...                                                ...  \n",
       "15493   Vicky Kaushal,Sarah Jane Dias,Raaghavv Chanana  \n",
       "15494              Karisma Kapoor,Rekha,Manoj Bajpayee  \n",
       "15503               Chiranjeevi,Jayamalini,Rajinikanth  \n",
       "15505          Akshay Kumar,Twinkle Khanna,Aruna Irani  \n",
       "15508                Dharmendra,Jaya Prada,Arjun Sarja  \n",
       "\n",
       "[5659 rows x 11 columns]>"
      ]
     },
     "execution_count": 26,
     "metadata": {},
     "output_type": "execute_result"
    }
   ],
   "source": [
    "data.describe"
   ]
  },
  {
   "cell_type": "code",
   "execution_count": 27,
   "id": "0f59bf08",
   "metadata": {},
   "outputs": [],
   "source": [
    "data.drop([\"Name\",\"Actor 1\", \"Actor 2\", \"Actor 3\"],axis=1,inplace=True)"
   ]
  },
  {
   "cell_type": "code",
   "execution_count": 29,
   "id": "0e1b1c3e",
   "metadata": {},
   "outputs": [],
   "source": [
    "x=data.drop(\"Rating\",axis=1)\n",
    "y=data[\"Rating\"]"
   ]
  },
  {
   "cell_type": "code",
   "execution_count": 30,
   "id": "77d84849",
   "metadata": {},
   "outputs": [
    {
     "data": {
      "text/html": [
       "<div>\n",
       "<style scoped>\n",
       "    .dataframe tbody tr th:only-of-type {\n",
       "        vertical-align: middle;\n",
       "    }\n",
       "\n",
       "    .dataframe tbody tr th {\n",
       "        vertical-align: top;\n",
       "    }\n",
       "\n",
       "    .dataframe thead th {\n",
       "        text-align: right;\n",
       "    }\n",
       "</style>\n",
       "<table border=\"1\" class=\"dataframe\">\n",
       "  <thead>\n",
       "    <tr style=\"text-align: right;\">\n",
       "      <th></th>\n",
       "      <th>Year</th>\n",
       "      <th>Duration</th>\n",
       "      <th>Genre</th>\n",
       "      <th>Votes</th>\n",
       "      <th>Director</th>\n",
       "      <th>Actor</th>\n",
       "    </tr>\n",
       "  </thead>\n",
       "  <tbody>\n",
       "    <tr>\n",
       "      <th>1</th>\n",
       "      <td>2019</td>\n",
       "      <td>109</td>\n",
       "      <td>Drama</td>\n",
       "      <td>8</td>\n",
       "      <td>Gaurav Bakshi</td>\n",
       "      <td>Rasika Dugal,Vivek Ghamande,Arvind Jangid</td>\n",
       "    </tr>\n",
       "    <tr>\n",
       "      <th>3</th>\n",
       "      <td>2019</td>\n",
       "      <td>110</td>\n",
       "      <td>Comedy, Romance</td>\n",
       "      <td>35</td>\n",
       "      <td>Ovais Khan</td>\n",
       "      <td>Prateik,Ishita Raj,Siddhant Kapoor</td>\n",
       "    </tr>\n",
       "    <tr>\n",
       "      <th>5</th>\n",
       "      <td>1997</td>\n",
       "      <td>147</td>\n",
       "      <td>Comedy, Drama, Musical</td>\n",
       "      <td>827</td>\n",
       "      <td>Rahul Rawail</td>\n",
       "      <td>Bobby Deol,Aishwarya Rai Bachchan,Shammi Kapoor</td>\n",
       "    </tr>\n",
       "    <tr>\n",
       "      <th>6</th>\n",
       "      <td>2005</td>\n",
       "      <td>142</td>\n",
       "      <td>Drama, Romance, War</td>\n",
       "      <td>1086</td>\n",
       "      <td>Shoojit Sircar</td>\n",
       "      <td>Jimmy Sheirgill,Minissha Lamba,Yashpal Sharma</td>\n",
       "    </tr>\n",
       "    <tr>\n",
       "      <th>8</th>\n",
       "      <td>2012</td>\n",
       "      <td>82</td>\n",
       "      <td>Horror, Mystery, Thriller</td>\n",
       "      <td>326</td>\n",
       "      <td>Allyson Patel</td>\n",
       "      <td>Yash Dave,Muntazir Ahmad,Kiran Bhatia</td>\n",
       "    </tr>\n",
       "    <tr>\n",
       "      <th>...</th>\n",
       "      <td>...</td>\n",
       "      <td>...</td>\n",
       "      <td>...</td>\n",
       "      <td>...</td>\n",
       "      <td>...</td>\n",
       "      <td>...</td>\n",
       "    </tr>\n",
       "    <tr>\n",
       "      <th>15493</th>\n",
       "      <td>2015</td>\n",
       "      <td>115</td>\n",
       "      <td>Drama</td>\n",
       "      <td>408</td>\n",
       "      <td>Mozez Singh</td>\n",
       "      <td>Vicky Kaushal,Sarah Jane Dias,Raaghavv Chanana</td>\n",
       "    </tr>\n",
       "    <tr>\n",
       "      <th>15494</th>\n",
       "      <td>2001</td>\n",
       "      <td>153</td>\n",
       "      <td>Biography, Drama, History</td>\n",
       "      <td>1496</td>\n",
       "      <td>Shyam Benegal</td>\n",
       "      <td>Karisma Kapoor,Rekha,Manoj Bajpayee</td>\n",
       "    </tr>\n",
       "    <tr>\n",
       "      <th>15503</th>\n",
       "      <td>1989</td>\n",
       "      <td>125</td>\n",
       "      <td>Action, Crime, Drama</td>\n",
       "      <td>44</td>\n",
       "      <td>S.P. Muthuraman</td>\n",
       "      <td>Chiranjeevi,Jayamalini,Rajinikanth</td>\n",
       "    </tr>\n",
       "    <tr>\n",
       "      <th>15505</th>\n",
       "      <td>1999</td>\n",
       "      <td>129</td>\n",
       "      <td>Action, Drama</td>\n",
       "      <td>655</td>\n",
       "      <td>Kuku Kohli</td>\n",
       "      <td>Akshay Kumar,Twinkle Khanna,Aruna Irani</td>\n",
       "    </tr>\n",
       "    <tr>\n",
       "      <th>15508</th>\n",
       "      <td>1998</td>\n",
       "      <td>130</td>\n",
       "      <td>Action, Drama</td>\n",
       "      <td>20</td>\n",
       "      <td>K.C. Bokadia</td>\n",
       "      <td>Dharmendra,Jaya Prada,Arjun Sarja</td>\n",
       "    </tr>\n",
       "  </tbody>\n",
       "</table>\n",
       "<p>5659 rows × 6 columns</p>\n",
       "</div>"
      ],
      "text/plain": [
       "       Year  Duration                      Genre  Votes         Director  \\\n",
       "1      2019       109                      Drama      8    Gaurav Bakshi   \n",
       "3      2019       110            Comedy, Romance     35       Ovais Khan   \n",
       "5      1997       147     Comedy, Drama, Musical    827     Rahul Rawail   \n",
       "6      2005       142        Drama, Romance, War   1086   Shoojit Sircar   \n",
       "8      2012        82  Horror, Mystery, Thriller    326    Allyson Patel   \n",
       "...     ...       ...                        ...    ...              ...   \n",
       "15493  2015       115                      Drama    408      Mozez Singh   \n",
       "15494  2001       153  Biography, Drama, History   1496    Shyam Benegal   \n",
       "15503  1989       125       Action, Crime, Drama     44  S.P. Muthuraman   \n",
       "15505  1999       129              Action, Drama    655       Kuku Kohli   \n",
       "15508  1998       130              Action, Drama     20     K.C. Bokadia   \n",
       "\n",
       "                                                 Actor  \n",
       "1            Rasika Dugal,Vivek Ghamande,Arvind Jangid  \n",
       "3                   Prateik,Ishita Raj,Siddhant Kapoor  \n",
       "5      Bobby Deol,Aishwarya Rai Bachchan,Shammi Kapoor  \n",
       "6        Jimmy Sheirgill,Minissha Lamba,Yashpal Sharma  \n",
       "8                Yash Dave,Muntazir Ahmad,Kiran Bhatia  \n",
       "...                                                ...  \n",
       "15493   Vicky Kaushal,Sarah Jane Dias,Raaghavv Chanana  \n",
       "15494              Karisma Kapoor,Rekha,Manoj Bajpayee  \n",
       "15503               Chiranjeevi,Jayamalini,Rajinikanth  \n",
       "15505          Akshay Kumar,Twinkle Khanna,Aruna Irani  \n",
       "15508                Dharmendra,Jaya Prada,Arjun Sarja  \n",
       "\n",
       "[5659 rows x 6 columns]"
      ]
     },
     "execution_count": 30,
     "metadata": {},
     "output_type": "execute_result"
    }
   ],
   "source": [
    "x"
   ]
  },
  {
   "cell_type": "code",
   "execution_count": 31,
   "id": "4ebec5ec",
   "metadata": {},
   "outputs": [
    {
     "data": {
      "text/plain": [
       "1        7.0\n",
       "3        4.4\n",
       "5        4.7\n",
       "6        7.4\n",
       "8        5.6\n",
       "        ... \n",
       "15493    6.1\n",
       "15494    6.2\n",
       "15503    5.8\n",
       "15505    4.5\n",
       "15508    6.2\n",
       "Name: Rating, Length: 5659, dtype: float64"
      ]
     },
     "execution_count": 31,
     "metadata": {},
     "output_type": "execute_result"
    }
   ],
   "source": [
    "y"
   ]
  },
  {
   "cell_type": "code",
   "execution_count": 32,
   "id": "d959d564",
   "metadata": {},
   "outputs": [],
   "source": [
    "x = data[['Year', 'Duration', 'Votes']]\n",
    "y = data['Genre']\n",
    "\n",
    "scaler = MinMaxScaler()\n",
    "\n",
    "scaled_data = scaler.fit_transform(x)"
   ]
  },
  {
   "cell_type": "code",
   "execution_count": 33,
   "id": "6eb8de3d",
   "metadata": {},
   "outputs": [],
   "source": [
    "x_train,x_test,y_train,y_test=train_test_split(x,y,test_size=0.2,random_state=20)"
   ]
  },
  {
   "cell_type": "code",
   "execution_count": 34,
   "id": "617f9f25",
   "metadata": {},
   "outputs": [
    {
     "data": {
      "text/plain": [
       "(4527, 3)"
      ]
     },
     "execution_count": 34,
     "metadata": {},
     "output_type": "execute_result"
    }
   ],
   "source": [
    "x_train.shape"
   ]
  },
  {
   "cell_type": "code",
   "execution_count": 35,
   "id": "85758e60",
   "metadata": {},
   "outputs": [
    {
     "data": {
      "text/plain": [
       "(1132, 3)"
      ]
     },
     "execution_count": 35,
     "metadata": {},
     "output_type": "execute_result"
    }
   ],
   "source": [
    "x_test.shape"
   ]
  },
  {
   "cell_type": "code",
   "execution_count": 36,
   "id": "8ce99f96",
   "metadata": {},
   "outputs": [
    {
     "data": {
      "text/plain": [
       "(4527,)"
      ]
     },
     "execution_count": 36,
     "metadata": {},
     "output_type": "execute_result"
    }
   ],
   "source": [
    "y_train.shape"
   ]
  },
  {
   "cell_type": "code",
   "execution_count": 37,
   "id": "afd23282",
   "metadata": {},
   "outputs": [
    {
     "data": {
      "text/plain": [
       "(1132,)"
      ]
     },
     "execution_count": 37,
     "metadata": {},
     "output_type": "execute_result"
    }
   ],
   "source": [
    "y_test.shape"
   ]
  },
  {
   "cell_type": "code",
   "execution_count": 68,
   "id": "9a4abc96",
   "metadata": {
    "scrolled": true
   },
   "outputs": [],
   "source": [
    "lr=LogisticRegression()\n",
    "lr.fit(x_train, y_train)\n",
    "lr_test_score = lr.score(x_test, y_test)\n",
    "lr_train_score = lr.score(x_train, y_train)\n",
    "\n",
    "knn=KNeighborsClassifier(n_neighbors=10)\n",
    "knn.fit(x_train, y_train)\n",
    "knn_test_score = knn.score(x_test, y_test)\n",
    "knn_train_score = knn.score(x_train, y_train)\n",
    "\n",
    "rf = RandomForestClassifier(random_state=1, max_depth=2, criterion=\"entropy\", n_estimators=200)\n",
    "rf.fit(x_train, y_train)\n",
    "rf_test_score = rf.score(x_test, y_test)\n",
    "rf_train_score = rf.score(x_train, y_train)\n",
    "\n",
    "dt=DecisionTreeClassifier(max_depth = 7)\n",
    "dt.fit(x_train, y_train)\n",
    "dt_test_score = dt.score(x_test, y_test)\n",
    "dt_train_score = dt.score(x_train, y_train)"
   ]
  },
  {
   "cell_type": "code",
   "execution_count": 69,
   "id": "4839519c",
   "metadata": {},
   "outputs": [
    {
     "name": "stdout",
     "output_type": "stream",
     "text": [
      "Training of lr : 0.15308151093439365\n",
      "Testing of lr : 0.15901060070671377\n",
      "Training of knn  : 0.24210293792798762\n",
      "Testing of knn : 0.11925795053003534\n",
      "Training of rf  : 0.15065164568146674\n",
      "Testing of rf : 0.15812720848056538\n",
      "Training of dt  : 0.21117738016346366\n",
      "Testing of dt : 0.14487632508833923\n"
     ]
    }
   ],
   "source": [
    "train_score = lr.score(x_train, y_train)\n",
    "test_score = lr.score(x_test, y_test)\n",
    "\n",
    "print(f\"Training of lr : {train_score}\")\n",
    "print(f\"Testing of lr : {test_score}\")\n",
    "\n",
    "train_score = knn.score(x_train, y_train)\n",
    "test_score = knn.score(x_test, y_test)\n",
    "\n",
    "print(f\"Training of knn  : {train_score}\")\n",
    "print(f\"Testing of knn : {test_score}\")\n",
    "\n",
    "train_score = rf.score(x_train, y_train)\n",
    "test_score = rf.score(x_test, y_test)\n",
    "\n",
    "print(f\"Training of rf  : {train_score}\")\n",
    "print(f\"Testing of rf : {test_score}\")\n",
    "\n",
    "train_score = dt.score(x_train, y_train)\n",
    "test_score = dt.score(x_test, y_test)\n",
    "\n",
    "print(f\"Training of dt  : {train_score}\")\n",
    "print(f\"Testing of dt : {test_score}\")"
   ]
  },
  {
   "cell_type": "code",
   "execution_count": 67,
   "id": "2a282d32",
   "metadata": {},
   "outputs": [
    {
     "name": "stdout",
     "output_type": "stream",
     "text": [
      "accuracy of lr:  0.15901060070671377\n",
      "accuracy of knn:  0.11925795053003534\n",
      "accuracy of rf:  0.15812720848056538\n",
      "accuracy of dt:  0.1687279151943463\n"
     ]
    }
   ],
   "source": [
    "lr_pred=lr.predict(x_test)\n",
    "lr_pred\n",
    "print(\"accuracy of lr: \",accuracy_score(y_test,lr_pred))\n",
    "\n",
    "knn_pred=knn.predict(x_test)\n",
    "knn_pred\n",
    "print(\"accuracy of knn: \",accuracy_score(y_test,knn_pred))\n",
    "\n",
    "rf_pred=rf.predict(x_test)\n",
    "rf_pred\n",
    "print(\"accuracy of rf: \",accuracy_score(y_test,rf_pred))\n",
    "\n",
    "dt_pred=dt.predict(x_test)\n",
    "dt_pred\n",
    "print(\"accuracy of dt: \",accuracy_score(y_test,dt_pred))\n"
   ]
  }
 ],
 "metadata": {
  "kernelspec": {
   "display_name": "Python 3 (ipykernel)",
   "language": "python",
   "name": "python3"
  },
  "language_info": {
   "codemirror_mode": {
    "name": "ipython",
    "version": 3
   },
   "file_extension": ".py",
   "mimetype": "text/x-python",
   "name": "python",
   "nbconvert_exporter": "python",
   "pygments_lexer": "ipython3",
   "version": "3.11.5"
  }
 },
 "nbformat": 4,
 "nbformat_minor": 5
}
